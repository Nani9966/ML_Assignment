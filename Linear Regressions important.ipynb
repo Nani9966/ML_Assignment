{
 "cells": [
  {
   "cell_type": "code",
   "execution_count": null,
   "id": "876ca1fa",
   "metadata": {},
   "outputs": [],
   "source": [
    "X=df2.iloc[:,:-1]\n",
    "y=df2.iloc[:,-1]\n"
   ]
  },
  {
   "cell_type": "code",
   "execution_count": null,
   "id": "d47ad58f",
   "metadata": {},
   "outputs": [],
   "source": [
    "from sklearn.model_selection import train_test_split\n",
    "X_train, X_test, y_train, y_test = train_test_split(X, y, test_size=0.33, random_state=10)\n",
    "\n",
    "X_train.shape\n",
    "X_test.shape\n",
    "y_train.shape\n",
    "y_test.shape"
   ]
  },
  {
   "cell_type": "code",
   "execution_count": 1,
   "id": "d0c6a3c8",
   "metadata": {},
   "outputs": [
    {
     "ename": "NameError",
     "evalue": "name 'X_train' is not defined",
     "output_type": "error",
     "traceback": [
      "\u001b[1;31m---------------------------------------------------------------------------\u001b[0m",
      "\u001b[1;31mNameError\u001b[0m                                 Traceback (most recent call last)",
      "\u001b[1;32m~\\AppData\\Local\\Temp/ipykernel_16940/656137366.py\u001b[0m in \u001b[0;36m<module>\u001b[1;34m\u001b[0m\n\u001b[0;32m      2\u001b[0m \u001b[0mscaler\u001b[0m\u001b[1;33m=\u001b[0m\u001b[0mStandardScaler\u001b[0m\u001b[1;33m(\u001b[0m\u001b[1;33m)\u001b[0m\u001b[1;33m\u001b[0m\u001b[1;33m\u001b[0m\u001b[0m\n\u001b[0;32m      3\u001b[0m \u001b[1;33m\u001b[0m\u001b[0m\n\u001b[1;32m----> 4\u001b[1;33m \u001b[0mX_train_scaled\u001b[0m\u001b[1;33m=\u001b[0m\u001b[0mscaler\u001b[0m\u001b[1;33m.\u001b[0m\u001b[0mfit_transform\u001b[0m\u001b[1;33m(\u001b[0m\u001b[0mX_train\u001b[0m\u001b[1;33m)\u001b[0m\u001b[1;33m\u001b[0m\u001b[1;33m\u001b[0m\u001b[0m\n\u001b[0m",
      "\u001b[1;31mNameError\u001b[0m: name 'X_train' is not defined"
     ]
    }
   ],
   "source": [
    "from sklearn.preprocessing import StandardScaler\n",
    "scaler=StandardScaler()\n",
    "\n",
    "X_train_scaled=scaler.fit_transform(X_train)\n",
    "X_test_scaled=scaler.transform(X_test)"
   ]
  },
  {
   "cell_type": "code",
   "execution_count": null,
   "id": "0de45560",
   "metadata": {},
   "outputs": [],
   "source": [
    "from sklearn.linear_model import LinearRegression\n",
    "regression = LinearRegression()\n",
    "regression.fit(X_train_scaled,y_train)\n",
    "regression = LinearRegression()\n",
    "\n",
    "regression.fit(X_train_scaled,y_train)\n",
    "print(regression.coef_)\n",
    "print(regression.intercept_)\n",
    "y_pred=regression.predict(X_test_scaled)"
   ]
  },
  {
   "cell_type": "code",
   "execution_count": null,
   "id": "fb5bad7f",
   "metadata": {},
   "outputs": [],
   "source": [
    "plt.scatter(y_test,y_pred)\n",
    "plt.xlabel(\"Test truth data\")\n",
    "plt.ylabel(\"Test predicted data\")"
   ]
  },
  {
   "cell_type": "code",
   "execution_count": null,
   "id": "e10e711d",
   "metadata": {},
   "outputs": [],
   "source": [
    "residuals =y_test-y_pred\n",
    "sns.displot(residuals,kind=\"kde\")"
   ]
  },
  {
   "cell_type": "code",
   "execution_count": null,
   "id": "25c56e57",
   "metadata": {},
   "outputs": [],
   "source": [
    "plt.scatter(y_pred,residuals)\n",
    "plt.xlabel(\"distribuction\")"
   ]
  },
  {
   "cell_type": "code",
   "execution_count": null,
   "id": "1f98433c",
   "metadata": {},
   "outputs": [],
   "source": [
    "from sklearn.metrics import mean_squared_error\n",
    "from sklearn.metrics import mean_absolute_error\n",
    "print(mean_squared_error(y_test, y_pred))\n",
    "print(mean_absolute_error(y_test, y_pred))\n",
    "print(np.sqrt(mean_absolute_error(y_test, y_pred)))"
   ]
  },
  {
   "cell_type": "code",
   "execution_count": null,
   "id": "3dc39035",
   "metadata": {},
   "outputs": [],
   "source": [
    "from sklearn.metrics import r2_score\n",
    "score=r2_score(y_test,y_pred)\n",
    "print(score)"
   ]
  },
  {
   "cell_type": "code",
   "execution_count": null,
   "id": "99abfc58",
   "metadata": {},
   "outputs": [],
   "source": [
    "##adjusted r2 score\n",
    "1-(1-score)*(len(y_test)-1)/(len(y_test)-X_test.shape[-1]-1)"
   ]
  },
  {
   "cell_type": "code",
   "execution_count": null,
   "id": "bbac7cdb",
   "metadata": {},
   "outputs": [],
   "source": []
  },
  {
   "cell_type": "code",
   "execution_count": null,
   "id": "032f5b10",
   "metadata": {},
   "outputs": [],
   "source": []
  },
  {
   "cell_type": "markdown",
   "id": "cd36fc03",
   "metadata": {},
   "source": [
    "# Ridge Reression"
   ]
  },
  {
   "cell_type": "code",
   "execution_count": null,
   "id": "3d63bd81",
   "metadata": {},
   "outputs": [],
   "source": [
    "from sklearn.linear_model import Ridge\n",
    "from sklearn.model_selection import GridSearchCV\n",
    "ridge=Ridge()\n",
    "parameters={'alpha':[1,2,5,10,20,30,40]}\n",
    "ridge_cv=GridSearchCV(ridge,parameters,scoring='neg_mean_squared_error',cv=5)\n",
    "ridge_cv.fit(X_train,y_train)\n",
    "print(ridge_cv.best_params_)\n",
    "print(ridge_cv.best_score_)"
   ]
  },
  {
   "cell_type": "code",
   "execution_count": 3,
   "id": "670bf9fa",
   "metadata": {},
   "outputs": [
    {
     "ename": "NameError",
     "evalue": "name 'ridge_cv' is not defined",
     "output_type": "error",
     "traceback": [
      "\u001b[1;31m---------------------------------------------------------------------------\u001b[0m",
      "\u001b[1;31mNameError\u001b[0m                                 Traceback (most recent call last)",
      "\u001b[1;32m~\\AppData\\Local\\Temp/ipykernel_16940/1385564774.py\u001b[0m in \u001b[0;36m<module>\u001b[1;34m\u001b[0m\n\u001b[1;32m----> 1\u001b[1;33m \u001b[0mridge_pred\u001b[0m\u001b[1;33m=\u001b[0m\u001b[0mridge_cv\u001b[0m\u001b[1;33m.\u001b[0m\u001b[0mpredict\u001b[0m\u001b[1;33m(\u001b[0m\u001b[0mX_test\u001b[0m\u001b[1;33m)\u001b[0m\u001b[1;33m\u001b[0m\u001b[1;33m\u001b[0m\u001b[0m\n\u001b[0m",
      "\u001b[1;31mNameError\u001b[0m: name 'ridge_cv' is not defined"
     ]
    }
   ],
   "source": [
    "ridge_pred=ridge_cv.predict(X_test)\n",
    "sns.displot(ridge_pred-y_test)\n"
   ]
  },
  {
   "cell_type": "code",
   "execution_count": null,
   "id": "f5489488",
   "metadata": {},
   "outputs": [],
   "source": [
    "from sklearn.metrics import mean_squared_error\n",
    "from sklearn.metrics import mean_absolute_error\n",
    "print(mean_squared_error(y_test, ridge_pred))\n",
    "print(mean_absolute_error(y_test, ridge_pred))\n",
    "print(np.sqrt(mean_absolute_error(y_test, ridge_pred)))"
   ]
  },
  {
   "cell_type": "code",
   "execution_count": null,
   "id": "60f1516e",
   "metadata": {},
   "outputs": [],
   "source": [
    "from sklearn.metrics import r2_score\n",
    "ridge_score=r2_score(y_test,ridge_pred)\n",
    "print(ridge_score)"
   ]
  },
  {
   "cell_type": "code",
   "execution_count": null,
   "id": "a071fcc5",
   "metadata": {},
   "outputs": [],
   "source": [
    "##adjusted r2 score\n",
    "adjusted r2_score=1-(1-ridge_score)*(len(y_test)-1)/(len(y_test)-X_test.shape[-1]-1)"
   ]
  },
  {
   "cell_type": "code",
   "execution_count": null,
   "id": "0f1cb942",
   "metadata": {},
   "outputs": [],
   "source": []
  },
  {
   "cell_type": "markdown",
   "id": "822dfd23",
   "metadata": {},
   "source": [
    "# Lasso Regression "
   ]
  },
  {
   "cell_type": "code",
   "execution_count": null,
   "id": "4172a564",
   "metadata": {},
   "outputs": [],
   "source": [
    "from sklearn.linear_model import Lasso\n",
    "lasso=Lasso()\n",
    "\n",
    "parameters={'alpha':[1,2,5,10,20,30,40]}\n",
    "lasso_cv=GridSearchCV(lasso,parameters,scoring='neg_mean_squared_error',cv=5)"
   ]
  },
  {
   "cell_type": "code",
   "execution_count": null,
   "id": "62f6049e",
   "metadata": {},
   "outputs": [],
   "source": [
    "lasso_cv.fit(X_train,y_train)"
   ]
  },
  {
   "cell_type": "code",
   "execution_count": null,
   "id": "ae54eeed",
   "metadata": {},
   "outputs": [],
   "source": [
    "print(lasso_cv.best_params_)\n",
    "print(lasso_cv.best_score_)"
   ]
  },
  {
   "cell_type": "code",
   "execution_count": null,
   "id": "8b6ebb46",
   "metadata": {},
   "outputs": [],
   "source": [
    "lasso_predt=lasso_cv.predict(X_test)\n",
    "sns.displot(lasso_predt-y_test)"
   ]
  },
  {
   "cell_type": "code",
   "execution_count": null,
   "id": "805f8fae",
   "metadata": {},
   "outputs": [],
   "source": [
    "from sklearn.metrics import mean_squared_error\n",
    "from sklearn.metrics import mean_absolute_error\n",
    "print(mean_squared_error(y_test, lasso_predt))\n",
    "print(mean_absolute_error(y_test, lasso_predt))\n",
    "print(np.sqrt(mean_absolute_error(y_test, lasso_predt)))"
   ]
  },
  {
   "cell_type": "code",
   "execution_count": null,
   "id": "338a062f",
   "metadata": {},
   "outputs": [],
   "source": [
    "from sklearn.metrics import r2_score\n",
    "lasso_score=r2_score(y_test,lasso_predt)\n",
    "print(lasso_score)"
   ]
  },
  {
   "cell_type": "code",
   "execution_count": null,
   "id": "274902a0",
   "metadata": {},
   "outputs": [],
   "source": [
    "##adjusted r2 score\n",
    "1-(1-lasso_score)*(len(y_test)-1)/(len(y_test)-X_test.shape[-1]-1)"
   ]
  },
  {
   "cell_type": "code",
   "execution_count": null,
   "id": "2d5462b9",
   "metadata": {},
   "outputs": [],
   "source": []
  },
  {
   "cell_type": "markdown",
   "id": "7aa0e49f",
   "metadata": {},
   "source": [
    "# Elastic Net"
   ]
  },
  {
   "cell_type": "code",
   "execution_count": null,
   "id": "63d3844a",
   "metadata": {},
   "outputs": [],
   "source": [
    "from sklearn.linear_model import ElasticNet\n",
    "elactic_net=ElasticNet()\n",
    "\n",
    "parameters={'alpha':[1,2,5,10,20,30,40]}\n",
    "elactic_net_cv=GridSearchCV(elactic_net,parameters,scoring='neg_mean_squared_error',cv=5)\n",
    "\n",
    "elactic_net_cv.fit(X_train,y_train)\n",
    "\n",
    "\n",
    "print(elactic_net_cv.best_params_)\n",
    "print(elactic_net_cv.best_score_)\n",
    "\n",
    "elastic_pred=elactic_net_cv.predict(X_test)\n",
    "sns.displot(elastic_pred-y_test)\n"
   ]
  },
  {
   "cell_type": "code",
   "execution_count": null,
   "id": "fbc4557a",
   "metadata": {},
   "outputs": [],
   "source": [
    "from sklearn.metrics import mean_squared_error\n",
    "from sklearn.metrics import mean_absolute_error\n",
    "print(mean_squared_error(y_test, elastic_pred))\n",
    "print(mean_absolute_error(y_test, elastic_pred))\n",
    "print(np.sqrt(mean_absolute_error(y_test, elastic_pred)))"
   ]
  },
  {
   "cell_type": "code",
   "execution_count": null,
   "id": "78c49261",
   "metadata": {},
   "outputs": [],
   "source": [
    "from sklearn.metrics import r2_score\n",
    "elastic_score=r2_score(y_test,elastic_pred)\n",
    "print(elastic_score)"
   ]
  },
  {
   "cell_type": "code",
   "execution_count": null,
   "id": "790d3f58",
   "metadata": {},
   "outputs": [],
   "source": [
    "##adjusted r2 score\n",
    "1-(1-elastic_score)*(len(y_test)-1)/(len(y_test)-X_test.shape[-1]-1)"
   ]
  },
  {
   "cell_type": "markdown",
   "id": "d5bab5c2",
   "metadata": {},
   "source": [
    "# SVR_REGRESSION"
   ]
  },
  {
   "cell_type": "code",
   "execution_count": null,
   "id": "c4acb5cc",
   "metadata": {},
   "outputs": [],
   "source": [
    "from sklearn.model_selection import train_test_split\n",
    "X_train, X_test, y_train, y_test = train_test_split(X, y, test_size=0.33, random_state=10)\n",
    "\n",
    "X_train.shape\n",
    "X_test.shape\n",
    "y_train.shape\n",
    "y_test.shape"
   ]
  },
  {
   "cell_type": "code",
   "execution_count": null,
   "id": "3f85f5a9",
   "metadata": {},
   "outputs": [],
   "source": [
    "from sklearn.preprocessing import StandardScaler\n",
    "scaler=StandardScaler()\n",
    "\n",
    "X_train_scaled=scaler.fit_transform(X_train)\n",
    "X_test_scaled=scaler.transform(X_test)"
   ]
  },
  {
   "cell_type": "code",
   "execution_count": null,
   "id": "3d6825fc",
   "metadata": {},
   "outputs": [],
   "source": [
    "from sklearn.svm import SVR"
   ]
  },
  {
   "cell_type": "code",
   "execution_count": null,
   "id": "5fd6fdbb",
   "metadata": {},
   "outputs": [],
   "source": [
    "svr=SVR()\n",
    "svr"
   ]
  },
  {
   "cell_type": "code",
   "execution_count": null,
   "id": "0ad367b4",
   "metadata": {},
   "outputs": [],
   "source": [
    "svr.fit(X_train_scaled,y_train)"
   ]
  },
  {
   "cell_type": "code",
   "execution_count": null,
   "id": "2ab4d135",
   "metadata": {},
   "outputs": [],
   "source": [
    "svr_pred=svr.predict(X_test_scaled)"
   ]
  },
  {
   "cell_type": "code",
   "execution_count": null,
   "id": "364d86d6",
   "metadata": {},
   "outputs": [],
   "source": [
    "svr_pred"
   ]
  },
  {
   "cell_type": "code",
   "execution_count": null,
   "id": "bba40e22",
   "metadata": {},
   "outputs": [],
   "source": [
    "scr_r2_scre=r2_score(y_test,svr_pred)"
   ]
  },
  {
   "cell_type": "code",
   "execution_count": null,
   "id": "6f88429a",
   "metadata": {},
   "outputs": [],
   "source": [
    "scr_r2_scre"
   ]
  },
  {
   "cell_type": "code",
   "execution_count": null,
   "id": "4445e835",
   "metadata": {},
   "outputs": [],
   "source": [
    "print(\" accuracy is {} %\".format(round(scr_r2_scre*100,2)))"
   ]
  },
  {
   "cell_type": "code",
   "execution_count": null,
   "id": "9194bdee",
   "metadata": {},
   "outputs": [],
   "source": [
    "print(\"accuary is {}% \".format(round(adjusted_r2_score*100,2)))"
   ]
  },
  {
   "cell_type": "code",
   "execution_count": null,
   "id": "076cb6f3",
   "metadata": {},
   "outputs": [],
   "source": []
  },
  {
   "cell_type": "code",
   "execution_count": null,
   "id": "218e2c9d",
   "metadata": {},
   "outputs": [],
   "source": [
    "##PICKLE FILE"
   ]
  },
  {
   "cell_type": "code",
   "execution_count": null,
   "id": "a9ec78a2",
   "metadata": {},
   "outputs": [],
   "source": [
    "import pickle"
   ]
  },
  {
   "cell_type": "code",
   "execution_count": null,
   "id": "7ea77f55",
   "metadata": {},
   "outputs": [],
   "source": [
    "from sklearn.preprocessing import StandardScaler\n",
    "scaler=StandardScaler()\n",
    "\n",
    "X_train_scaled=scaler.fit_transform(X_train)\n",
    "X_test_scaled=scaler.transform(X_test)"
   ]
  },
  {
   "cell_type": "code",
   "execution_count": null,
   "id": "ca4d4960",
   "metadata": {},
   "outputs": [],
   "source": [
    "pickle.dump(scaler, open('scaler_reg.pkl','wb'))"
   ]
  },
  {
   "cell_type": "code",
   "execution_count": null,
   "id": "535d764e",
   "metadata": {},
   "outputs": [],
   "source": []
  }
 ],
 "metadata": {
  "kernelspec": {
   "display_name": "Python 3 (ipykernel)",
   "language": "python",
   "name": "python3"
  },
  "language_info": {
   "codemirror_mode": {
    "name": "ipython",
    "version": 3
   },
   "file_extension": ".py",
   "mimetype": "text/x-python",
   "name": "python",
   "nbconvert_exporter": "python",
   "pygments_lexer": "ipython3",
   "version": "3.7.13"
  }
 },
 "nbformat": 4,
 "nbformat_minor": 5
}
